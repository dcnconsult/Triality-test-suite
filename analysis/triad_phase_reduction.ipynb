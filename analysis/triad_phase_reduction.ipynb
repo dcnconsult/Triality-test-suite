{
 "cells": [
  {
   "cell_type": "markdown",
   "id": "e24f69d7",
   "metadata": {},
   "source": [
    "# Triad Phase Reduction (Stuart–Landau/Kuramoto)\n",
    "Goal: derive a reduced three-phase model that predicts a narrow triad-locking optimum with one dominant coupling and weak cross couplings, matching the simulation hotspot.\n",
    "\n",
    "**Ansatz:** Three weakly nonlinear oscillators with complex amplitudes $A_k = r_k e^{i\\theta_k}$ coupled via cubic terms and a small nonlinearity $\\lambda$.\n"
   ]
  },
  {
   "cell_type": "markdown",
   "id": "2c390ef0",
   "metadata": {},
   "source": [
    "## 1. Starting equations\n",
    "We start from a generic three-mode amplitude model near Hopf:\n",
    "\n",
    "$$\\dot A_k = (\\alpha_k + i\\omega_k) A_k - (1+i c_k) |A_k|^2 A_k \\\\+ \\sum_{j\\neq k} g_{kj} A_j + \\chi A_i A_j e^{-i\\theta_k} + \\dots$$\n",
    "\n",
    "Retain only resonant terms consistent with $\\omega_3 \\approx \\omega_1 + \\omega_2$ (3-wave mixing)."
   ]
  },
  {
   "cell_type": "markdown",
   "id": "a96108d4",
   "metadata": {},
   "source": [
    "## 2. Phase equations under weak coupling\n",
    "Assume $r_k$ adiabatically slaved to phases. Define the **triad phase** $\\Psi = \\theta_1 + \\theta_2 - \\theta_3$. Standard averaging yields:\n",
    "\n",
    "$$\\dot\\Psi = -\\Delta + K\\sin\\Psi - \\gamma \\Psi + \\mathcal{O}(\\epsilon^2)$$\n",
    "where $\\Delta = (\\omega_1 + \\omega_2 - \\omega_3)$ is the **detuning**, $K \\propto g_{12} r_1 r_2 / r_3$ is the effective triad coupling, and $\\gamma$ collects damping/nonlinear terms.\n"
   ]
  },
  {
   "cell_type": "markdown",
   "id": "91c01c0f",
   "metadata": {},
   "source": [
    "## 3. Locking condition & hotspot width\n",
    "Phase-lock occurs when a fixed point exists: $|\\Delta| \\le K$ (Arnold tongue). The **hotspot** corresponds to maximal $K$ given amplitudes. Asymmetric couplings (large $g_{12}$, small $g_{13}, g_{23}$) increase $K$ while reducing competing channels, narrowing the locking region in detuning.\n",
    "\n",
    "Predictions:\n",
    "- Peak bicoherence at detuning $\\Delta \\approx 0$.\n",
    "- Rapid falloff as $|\\Delta| > K$ (narrow tongue), matching the observed ridge.\n",
    "- Lock-phase coherence time increases as $\\Delta \\to 0$ (barrier flattening near fixed point)."
   ]
  },
  {
   "cell_type": "markdown",
   "id": "39ba95bb",
   "metadata": {},
   "source": [
    "## 4. Link to metrics\n",
    "- Bicoherence $b^2(f_1,f_2)$ increases with $|\\langle e^{i\\Psi}\\rangle|^2$.\n",
    "- Lock index $L = |\\langle e^{i\\Psi}\\rangle|$; coherence-time grows as fluctuations rarely cause $\\Psi$ slips when $|\\Delta| \\ll K$.\n",
    "\n",
    "Next step: fit $K(g_{ij},\\lambda)$ from simulation sweeps to predict **hotspot width** and compare against JPC/SPDC detuning curves."
   ]
  }
 ],
 "metadata": {},
 "nbformat": 4,
 "nbformat_minor": 5
}
